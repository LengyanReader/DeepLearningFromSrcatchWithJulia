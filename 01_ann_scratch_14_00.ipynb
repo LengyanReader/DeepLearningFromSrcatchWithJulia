{
 "cells": [
  {
   "cell_type": "markdown",
   "metadata": {},
   "source": [
    "# 1 Artificial Neura Network"
   ]
  },
  {
   "cell_type": "markdown",
   "metadata": {},
   "source": [
    "## 1.4 Around the dataset of MNIST"
   ]
  },
  {
   "cell_type": "markdown",
   "metadata": {},
   "source": [
    "### 1.4.1 Preparation"
   ]
  },
  {
   "cell_type": "markdown",
   "metadata": {},
   "source": [
    " Constructing the Neuro Network,"
   ]
  },
  {
   "cell_type": "code",
   "execution_count": 37,
   "metadata": {},
   "outputs": [],
   "source": [
    "mutable struct NetInfo  # pay attention to the mutatle\n",
    "# nodes of hierarchy of input，hidden，output\n",
    "    inodes::Int # input hierarchy nodes\n",
    "    hnodes::Int # hidden \n",
    "    onodes::Int # output\n",
    "# matrix of linking weights\n",
    "    wih # input to hidden\n",
    "    who # hidden to output\n",
    "#  Learning Rate\n",
    "    lr::Float64\n",
    "end"
   ]
  },
  {
   "cell_type": "markdown",
   "metadata": {},
   "source": [
    "Activation Function，sigmoid is Here"
   ]
  },
  {
   "cell_type": "code",
   "execution_count": 38,
   "metadata": {},
   "outputs": [
    {
     "data": {
      "text/plain": [
       "sigmoid (generic function with 1 method)"
      ]
     },
     "execution_count": 38,
     "metadata": {},
     "output_type": "execute_result"
    }
   ],
   "source": [
    "sigmoid(x) = 1 / (1 + exp(-x))"
   ]
  },
  {
   "cell_type": "markdown",
   "metadata": {},
   "source": [
    "Initiating the Neuro Network"
   ]
  },
  {
   "cell_type": "code",
   "execution_count": 39,
   "metadata": {
    "scrolled": true
   },
   "outputs": [],
   "source": [
    "using Distributions"
   ]
  },
  {
   "cell_type": "code",
   "execution_count": 40,
   "metadata": {},
   "outputs": [
    {
     "data": {
      "text/plain": [
       "InitNet (generic function with 1 method)"
      ]
     },
     "execution_count": 40,
     "metadata": {},
     "output_type": "execute_result"
    }
   ],
   "source": [
    "function InitNet(inodes::Int, hnodes::Int, onodes::Int, lr::Float64)\n",
    "    wih = rand(Normal(0, hnodes^(-0.5)), hnodes, inodes) # excellent idea from the oringinal author\n",
    "    who = rand(Normal(0, onodes^(-0.5)), onodes, hnodes)\n",
    "    return NetInfo(inodes, hnodes, onodes, wih, who, lr)\n",
    "end"
   ]
  },
  {
   "cell_type": "markdown",
   "metadata": {},
   "source": [
    "Forward-feed,"
   ]
  },
  {
   "cell_type": "code",
   "execution_count": 41,
   "metadata": {},
   "outputs": [
    {
     "data": {
      "text/plain": [
       "Query (generic function with 1 method)"
      ]
     },
     "execution_count": 41,
     "metadata": {},
     "output_type": "execute_result"
    }
   ],
   "source": [
    "function Query(net::NetInfo, inputs)\n",
    "    # signal,input to the hidden\n",
    "    hidden_inputs = net.wih * inputs\n",
    "    hidden_outputs = sigmoid.(hidden_inputs)\n",
    "    # signal,the hidden,to output\n",
    "    final_inputs = net.who * hidden_outputs\n",
    "    final_outputs = sigmoid.(final_inputs)\n",
    "    return  final_outputs\n",
    "end"
   ]
  },
  {
   "cell_type": "markdown",
   "metadata": {},
   "source": [
    "Backfoward feed"
   ]
  },
  {
   "cell_type": "code",
   "execution_count": 62,
   "metadata": {},
   "outputs": [
    {
     "data": {
      "text/plain": [
       "Train! (generic function with 1 method)"
      ]
     },
     "execution_count": 62,
     "metadata": {},
     "output_type": "execute_result"
    }
   ],
   "source": [
    "function Train!(net::NetInfo, inputs, targets)\n",
    "    # part 1,forward feed\n",
    "    ## signal,input to the hidden\n",
    "    hidden_inputs = net.wih * inputs\n",
    "    hidden_outputs = sigmoid.(hidden_inputs)\n",
    "    ## signal,the hidden,to output\n",
    "    final_inputs = net.who * hidden_outputs\n",
    "    final_outputs = sigmoid.(final_inputs)\n",
    "    # part 2：back forward\n",
    "    ## output error=target - actual\n",
    "    output_errors = targets - final_outputs # deviation\n",
    "    hidden_errors = net.who' * output_errors\n",
    "    net.who += net.lr .* (output_errors .* final_outputs .* (1.0 .- final_outputs)) * hidden_outputs'\n",
    "    net.wih += net.lr .* (hidden_errors .* hidden_outputs .* (1.0 .- hidden_outputs)) * inputs'\n",
    "end"
   ]
  },
  {
   "cell_type": "markdown",
   "metadata": {},
   "source": [
    "### 1.4.2  Practicing on a smple dataset"
   ]
  },
  {
   "cell_type": "code",
   "execution_count": 59,
   "metadata": {},
   "outputs": [],
   "source": [
    "using DelimitedFiles\n",
    "training_data_file = readdlm(\"D:/DS_thing/000/mnist_dataset/mnist_train_100.csv\", ',');  # a sample"
   ]
  },
  {
   "cell_type": "markdown",
   "metadata": {},
   "source": [
    "arguments setting"
   ]
  },
  {
   "cell_type": "code",
   "execution_count": 69,
   "metadata": {},
   "outputs": [],
   "source": [
    "input_nodes = 784\n",
    "hidden_nodes = 100\n",
    "output_nodes = 10\n",
    "learning_rate = 0.3;"
   ]
  },
  {
   "cell_type": "markdown",
   "metadata": {},
   "source": [
    "experiment in the sample dataset"
   ]
  },
  {
   "cell_type": "code",
   "execution_count": 72,
   "metadata": {},
   "outputs": [],
   "source": [
    "train_data_size = 100\n",
    "test_data_size = 10;"
   ]
  },
  {
   "cell_type": "code",
   "execution_count": null,
   "metadata": {},
   "outputs": [],
   "source": []
  },
  {
   "cell_type": "markdown",
   "metadata": {},
   "source": [
    "normalization and reshape"
   ]
  },
  {
   "cell_type": "code",
   "execution_count": 61,
   "metadata": {},
   "outputs": [
    {
     "data": {
      "text/plain": [
       "10×1 Array{Float64,2}:\n",
       " 0.01\n",
       " 0.01\n",
       " 0.01\n",
       " 0.01\n",
       " 0.01\n",
       " 0.99\n",
       " 0.01\n",
       " 0.01\n",
       " 0.01\n",
       " 0.01"
      ]
     },
     "execution_count": 61,
     "metadata": {},
     "output_type": "execute_result"
    }
   ],
   "source": [
    "record=1\n",
    "targets = zeros(output_nodes) .+ 0.01\n",
    "targets[round(Int, training_data_file[record, 1]) + 1] = 0.99\n",
    "targets = reshape(targets, 10, 1)"
   ]
  },
  {
   "cell_type": "code",
   "execution_count": 70,
   "metadata": {},
   "outputs": [
    {
     "data": {
      "text/plain": [
       "NetInfo(784, 100, 10, [-0.0121131 -0.16516 … 0.0222304 -0.0884992; 0.0105856 0.0614349 … 0.169588 0.10256; … ; 0.0043748 -0.0316893 … -0.159509 0.0769326; 0.0515735 0.177797 … 0.0215483 0.00844891], [0.218044 -0.178091 … -0.266258 0.17956; -0.110988 -0.198228 … -0.107388 0.0746235; … ; 0.583456 -0.293129 … -0.0140891 -0.217309; 0.205378 0.198045 … 0.583077 -0.264263], 0.3)"
      ]
     },
     "execution_count": 70,
     "metadata": {},
     "output_type": "execute_result"
    }
   ],
   "source": [
    "net_test = InitNet(input_nodes,hidden_nodes,output_nodes,learning_rate)"
   ]
  },
  {
   "cell_type": "code",
   "execution_count": 71,
   "metadata": {},
   "outputs": [],
   "source": [
    "#net_test=InitNet\n",
    "for record = 1:train_data_size\n",
    "    inputs = (training_data_file[record, 2:end] ./ 255.0 .* 0.99) .+ 0.01\n",
    "    inputs = reshape(inputs, input_nodes, 1) # \n",
    "    targets = zeros(output_nodes) .+ 0.01\n",
    "    targets[Int(training_data_file[record, 1]) + 1] = 0.99\n",
    "    targets = reshape(targets, 10, 1)\n",
    "\n",
    "    Train!(net_test, inputs, targets)\n",
    "end"
   ]
  },
  {
   "cell_type": "markdown",
   "metadata": {},
   "source": [
    "adding the test set sample"
   ]
  },
  {
   "cell_type": "code",
   "execution_count": null,
   "metadata": {},
   "outputs": [],
   "source": [
    "test_data_file = readdlm(\"D:/DS_thing/000/mnist_dataset/mnist_test_10.csv\", ',')"
   ]
  },
  {
   "cell_type": "code",
   "execution_count": 77,
   "metadata": {},
   "outputs": [],
   "source": [
    "scorecard = []\n",
    "\n",
    "for record = 1:test_data_size\n",
    "    correct_label = Int(test_data_file[record, 1])\n",
    "    inputs = (test_data_file[record, 2:end] ./ 255.0 .* 0.99) .+ 0.01\n",
    "    inputs = reshape(inputs, input_nodes, 1) # adjust the dim\n",
    "    \n",
    "    outputs = Query(net_test, inputs)\n",
    "      # 1value，2 index\n",
    "    label = findmax(outputs)[2][1]\n",
    "    if (label - 1 == correct_label)\n",
    "        append!(scorecard, 1)\n",
    "    else\n",
    "        append!(scorecard, 0)\n",
    "    end\n",
    "\n",
    "end"
   ]
  },
  {
   "cell_type": "code",
   "execution_count": 78,
   "metadata": {},
   "outputs": [
    {
     "name": "stdout",
     "output_type": "stream",
     "text": [
      "performance = 0.6"
     ]
    }
   ],
   "source": [
    "print(\"performance = \", sum(scorecard) / length(scorecard))"
   ]
  },
  {
   "cell_type": "markdown",
   "metadata": {},
   "source": [
    "### 1.4.3  Practicing on the whole datset "
   ]
  },
  {
   "cell_type": "code",
   "execution_count": 79,
   "metadata": {},
   "outputs": [],
   "source": [
    "test_data_file = readdlm(\"D:/DS_thing/000/mnist_dataset/mnist_test.csv\", ',')\n",
    "training_data_file = readdlm(\"D:/DS_thing/000/mnist_dataset/mnist_train.csv\", ',');"
   ]
  },
  {
   "cell_type": "code",
   "execution_count": 80,
   "metadata": {},
   "outputs": [
    {
     "data": {
      "text/plain": [
       "NetInfo(784, 100, 10, [-0.00852818 -0.064523 … -0.0254088 -0.0349585; 0.0655188 0.142846 … -0.0506445 -0.0946943; … ; -0.083134 -0.110499 … -0.106505 -0.0573991; -0.131888 -0.0403696 … -0.037773 -0.103555], [-0.0714624 -0.7626 … 0.179258 -0.495606; -0.036007 0.137162 … -0.265109 0.340104; … ; 0.387522 0.0661092 … 0.480359 -0.494109; -0.746022 -0.178318 … 0.447564 -0.168922], 0.3)"
      ]
     },
     "execution_count": 80,
     "metadata": {},
     "output_type": "execute_result"
    }
   ],
   "source": [
    "input_nodes = 784\n",
    "hidden_nodes = 100\n",
    "output_nodes = 10\n",
    "learning_rate = 0.3\n",
    "train_data_size = 60000\n",
    "test_data_size = 10000\n",
    "net_test = InitNet(input_nodes,hidden_nodes,output_nodes,learning_rate)"
   ]
  },
  {
   "cell_type": "code",
   "execution_count": 84,
   "metadata": {},
   "outputs": [],
   "source": [
    "for record = 1:train_data_size\n",
    "    inputs = (training_data_file[record, 2:end] ./ 255.0 .* 0.99) .+ 0.01\n",
    "    inputs = reshape(inputs, input_nodes, 1) # \n",
    "    targets = zeros(output_nodes) .+ 0.01\n",
    "    targets[Int(training_data_file[record, 1]) + 1] = 0.99\n",
    "    targets = reshape(targets, 10, 1)\n",
    "\n",
    "    Train!(net_test, inputs, targets)\n",
    "end"
   ]
  },
  {
   "cell_type": "code",
   "execution_count": 89,
   "metadata": {},
   "outputs": [
    {
     "data": {
      "text/plain": [
       "2-element Array{Float64,1}:\n",
       " 0.0\n",
       " 0.0"
      ]
     },
     "execution_count": 89,
     "metadata": {},
     "output_type": "execute_result"
    }
   ],
   "source": [
    "training_data_file[1,2:3]"
   ]
  },
  {
   "cell_type": "code",
   "execution_count": 83,
   "metadata": {},
   "outputs": [
    {
     "name": "stdout",
     "output_type": "stream",
     "text": [
      "performance = 0.0969"
     ]
    }
   ],
   "source": [
    "scorecard = []\n",
    "\n",
    "for record = 1:test_data_size\n",
    "   # print(record，\":----\")\n",
    "    correct_label = Int(test_data_file[record, 1])\n",
    "    inputs = (test_data_file[record, 2:end] ./ 255.0 .* 0.99) .+ 0.01\n",
    "    inputs = reshape(inputs, input_nodes, 1) # adjust the dim\n",
    "    \n",
    "    outputs = Query(net_test, inputs)\n",
    "      # 1value，2 index\n",
    "    label = findmax(outputs)[2][1]\n",
    "    if (label - 1 == correct_label)\n",
    "        append!(scorecard, 1)\n",
    "    else\n",
    "        append!(scorecard, 0)\n",
    "    end\n",
    "\n",
    "end\n",
    "\n",
    "print(\"performance = \", sum(scorecard) / length(scorecard))"
   ]
  },
  {
   "cell_type": "markdown",
   "metadata": {},
   "source": [
    "epochs"
   ]
  },
  {
   "cell_type": "code",
   "execution_count": 98,
   "metadata": {},
   "outputs": [],
   "source": [
    "epochs =5\n",
    "\n",
    "for e=1:epochs\n",
    "    for record = 1:train_data_size\n",
    "        inputs = (training_data_file[record, 2:end] ./ 255.0 .* 0.99) .+ 0.01\n",
    "        inputs = reshape(inputs, input_nodes, 1) # \n",
    "        targets = zeros(output_nodes) .+ 0.01\n",
    "        targets[Int(training_data_file[record, 1]) + 1] = 0.99\n",
    "        targets = reshape(targets, 10, 1)\n",
    "\n",
    "        Train!(net_test, inputs, targets)\n",
    "    end\n",
    "end"
   ]
  }
 ],
 "metadata": {
  "kernelspec": {
   "display_name": "Julia 1.0.1",
   "language": "julia",
   "name": "julia-1.0"
  },
  "language_info": {
   "file_extension": ".jl",
   "mimetype": "application/julia",
   "name": "julia",
   "version": "1.0.1"
  }
 },
 "nbformat": 4,
 "nbformat_minor": 2
}
